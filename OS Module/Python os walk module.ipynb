{
 "cells": [
  {
   "cell_type": "code",
   "execution_count": 1,
   "metadata": {},
   "outputs": [],
   "source": [
    "import os"
   ]
  },
  {
   "cell_type": "code",
   "execution_count": 2,
   "metadata": {},
   "outputs": [],
   "source": [
    "dir_path = (\"C:/Users/amri.kyaruzi/OneDrive - Aga Khan Health Service, Tanzania/Desktop/Desktop/1. Sheila & Amri/Sheila/Certificates\")"
   ]
  },
  {
   "cell_type": "code",
   "execution_count": 3,
   "metadata": {},
   "outputs": [],
   "source": [
    "#os.getcwd()\n",
    "#os.chdir(dir_path)"
   ]
  },
  {
   "cell_type": "code",
   "execution_count": 4,
   "metadata": {},
   "outputs": [],
   "source": [
    "#for (root, dirs, files) in os.walk(dir_path):\n",
    "    #print(\"Current directory: \", root)\n",
    "    #print(\"Subdirectories are: \", dirs)\n",
    "    #print(\"Files are: \", files)\n",
    "    #print(\"*\" * 25)"
   ]
  },
  {
   "cell_type": "code",
   "execution_count": 5,
   "metadata": {},
   "outputs": [],
   "source": [
    "for (root, dirs, files) in os.walk(dir_path):\n",
    "    for file in files:\n",
    "        filename, ext = os.path.splitext(file)\n",
    "        \n",
    "        filename = filename.title()\n",
    "        filename = filename.replace(\".\", \" \")\n",
    "                        \n",
    "        newname = \"{}{}\".format(filename, ext)\n",
    "                \n",
    "        oldname = os.path.join(root, file)\n",
    "        newname = os.path.join(root, newname)\n",
    "        \n",
    "        #print(newname)\n",
    "        \n",
    "        os.rename(oldname, newname)\n",
    "        "
   ]
  },
  {
   "cell_type": "code",
   "execution_count": 6,
   "metadata": {},
   "outputs": [],
   "source": [
    "#os.rmdir(\"F:/autorun.inf\")\n",
    "#import shutil\n",
    "#shutil.rmtree(\"F:/autorun.inf\")"
   ]
  },
  {
   "cell_type": "code",
   "execution_count": null,
   "metadata": {},
   "outputs": [],
   "source": []
  }
 ],
 "metadata": {
  "interpreter": {
   "hash": "a646f2a6383ff3ae883ba58bf2fe2a5d525f8ca0902f534aacd3a66fbc02c8b0"
  },
  "kernelspec": {
   "display_name": "Python 3.10.2 64-bit ('minimal_ds': conda)",
   "language": "python",
   "name": "python3"
  },
  "language_info": {
   "codemirror_mode": {
    "name": "ipython",
    "version": 3
   },
   "file_extension": ".py",
   "mimetype": "text/x-python",
   "name": "python",
   "nbconvert_exporter": "python",
   "pygments_lexer": "ipython3",
   "version": "3.10.2"
  },
  "orig_nbformat": 4
 },
 "nbformat": 4,
 "nbformat_minor": 2
}
