{
 "cells": [
  {
   "cell_type": "code",
   "execution_count": 21,
   "metadata": {},
   "outputs": [],
   "source": [
    "import zipfile\n",
    "import os"
   ]
  },
  {
   "cell_type": "code",
   "execution_count": 22,
   "metadata": {},
   "outputs": [],
   "source": [
    "path = \"C:/Users/amri.kyaruzi/OneDrive - Aga Khan Health Service, Tanzania/Desktop/Closed Charts\"\n",
    "os.chdir(path)"
   ]
  },
  {
   "cell_type": "code",
   "execution_count": 24,
   "metadata": {},
   "outputs": [],
   "source": [
    "for root, dirs, files in os.walk(path):\n",
    "    for folder in dirs:\n",
    "        if os.path.isfile(folder):\n",
    "           continue\n",
    "        zipf = zipfile.ZipFile('{0}.zip'.format(os.path.join(root, folder)), 'w', zipfile.ZIP_DEFLATED)\n",
    "        zipf.write(os.path.abspath(os.path.join(root, folder)), arcname=folder)\n",
    "    zipf.close()"
   ]
  },
  {
   "cell_type": "code",
   "execution_count": null,
   "metadata": {},
   "outputs": [],
   "source": []
  }
 ],
 "metadata": {
  "interpreter": {
   "hash": "a646f2a6383ff3ae883ba58bf2fe2a5d525f8ca0902f534aacd3a66fbc02c8b0"
  },
  "kernelspec": {
   "display_name": "Python 3.10.2 ('minimal_ds')",
   "language": "python",
   "name": "python3"
  },
  "language_info": {
   "codemirror_mode": {
    "name": "ipython",
    "version": 3
   },
   "file_extension": ".py",
   "mimetype": "text/x-python",
   "name": "python",
   "nbconvert_exporter": "python",
   "pygments_lexer": "ipython3",
   "version": "3.10.2"
  },
  "orig_nbformat": 4
 },
 "nbformat": 4,
 "nbformat_minor": 2
}
