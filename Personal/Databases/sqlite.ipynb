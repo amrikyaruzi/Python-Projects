{
 "cells": [
  {
   "cell_type": "code",
   "execution_count": 25,
   "metadata": {},
   "outputs": [],
   "source": [
    "#https://mungingdata.com/sqlite/create-database-load-csv-python/"
   ]
  },
  {
   "cell_type": "code",
   "execution_count": 1,
   "metadata": {},
   "outputs": [
    {
     "data": {
      "text/plain": [
       "'c:\\\\Users\\\\amri.kyaruzi\\\\Python Projects'"
      ]
     },
     "execution_count": 1,
     "metadata": {},
     "output_type": "execute_result"
    }
   ],
   "source": [
    "import os\n",
    "os.getcwd()"
   ]
  },
  {
   "cell_type": "code",
   "execution_count": 2,
   "metadata": {},
   "outputs": [],
   "source": [
    "import sqlite3\n",
    "import pandas as pd\n",
    "from pathlib import Path"
   ]
  },
  {
   "cell_type": "code",
   "execution_count": 3,
   "metadata": {},
   "outputs": [],
   "source": [
    "Path('my_data.db').touch()"
   ]
  },
  {
   "cell_type": "code",
   "execution_count": 5,
   "metadata": {},
   "outputs": [],
   "source": [
    "conn = sqlite3.connect('my_data.db')\n",
    "c = conn.cursor()"
   ]
  },
  {
   "cell_type": "code",
   "execution_count": 9,
   "metadata": {},
   "outputs": [
    {
     "data": {
      "text/plain": [
       "<sqlite3.Cursor at 0x1745d9c4b40>"
      ]
     },
     "execution_count": 9,
     "metadata": {},
     "output_type": "execute_result"
    }
   ],
   "source": [
    "c.execute('''CREATE TABLE my_data (Execution text, DateofBirth date, DateofOffence date,\n",
    "             HighestEducationLevel text, LastName text, FirstName text, TDCJ int,\n",
    "             AgeatExecution int, DateReceived date, ExecutionDate date, Race text, County text,\n",
    "             EyeColor text, Weight int, Height text, NativeCounty text, NativeState text,\n",
    "             LastStatement text)''')"
   ]
  },
  {
   "cell_type": "code",
   "execution_count": 7,
   "metadata": {},
   "outputs": [
    {
     "data": {
      "text/plain": [
       "Index(['Execution', 'Date of Birth', 'Date of Offence',\n",
       "       'Highest Education Level', 'Last Name', 'First Name', 'TDCJ\\nNumber',\n",
       "       'Age at Execution', 'Date Received', 'Execution Date', 'Race', 'County',\n",
       "       'Eye Color', 'Weight', 'Height', 'Native County', 'Native State',\n",
       "       'Last Statement'],\n",
       "      dtype='object')"
      ]
     },
     "execution_count": 7,
     "metadata": {},
     "output_type": "execute_result"
    }
   ],
   "source": [
    "data = pd.read_csv(\"tx_deathrow_full.csv\")\n",
    "data.columns"
   ]
  },
  {
   "cell_type": "code",
   "execution_count": 34,
   "metadata": {},
   "outputs": [],
   "source": [
    "data.rename(columns = {\"Date of Birth\" : \"DateofBirth\", \"Date of Offence\" : \"DateofOffence\",\n",
    "                       \"Highest Education Level\" : \"HighestEducationLevel\", \"Last Name\" : \"LastName\",\n",
    "                       \"First Name\" : \"FirstName\", \"TDCJ Number\" : \"TDCJ\", \"Age at Execution\" : \"AgeatExecution\",\n",
    "                       \"Date Received\" : \"DateReceived\", \"Execution Date\" : \"ExecutionDate\", \n",
    "                       \"Eye Color\" : \"EyeColor\", \"Native County\" : \"NativeCounty\", \"Native State\" : \"NativeState\",\n",
    "                       \"Last Statement\" : \"LastStatement\"}, inplace = True)"
   ]
  },
  {
   "cell_type": "code",
   "execution_count": 37,
   "metadata": {},
   "outputs": [],
   "source": [
    "data.to_sql('my_data', conn, if_exists='append', index = False)"
   ]
  },
  {
   "cell_type": "code",
   "execution_count": 39,
   "metadata": {},
   "outputs": [
    {
     "data": {
      "text/plain": [
       "[(553,\n",
       "  '24/09/1983',\n",
       "  '21/11/2004',\n",
       "  9.0,\n",
       "  'Young',\n",
       "  'Christopher Anthony',\n",
       "  999508,\n",
       "  34,\n",
       "  '31/03/2006',\n",
       "  '17/07/2018',\n",
       "  'Black',\n",
       "  'Bexar',\n",
       "  'Brown',\n",
       "  216.0,\n",
       "  '6\\' 1\"',\n",
       "  'Bexar',\n",
       "  'Texas',\n",
       "  \"l want to make sure the Patel family knows I love them like they love me. Make sure the kids in the world know I'm being executed and those kids I've been mentoring keep this fight going. I'm good Warden.\"),\n",
       " (552,\n",
       "  '28/08/1951',\n",
       "  '27/05/1979',\n",
       "  12.0,\n",
       "  'Bible',\n",
       "  'Danny Paul',\n",
       "  999455,\n",
       "  66,\n",
       "  '17/07/2003',\n",
       "  '27/06/2018',\n",
       "  'White',\n",
       "  'Harris',\n",
       "  'Blue',\n",
       "  194.0,\n",
       "  '5\\' 7\"',\n",
       "  'Brazoria',\n",
       "  'Texas',\n",
       "  None)]"
      ]
     },
     "execution_count": 39,
     "metadata": {},
     "output_type": "execute_result"
    }
   ],
   "source": [
    "c.execute('''SELECT * FROM my_data LIMIT 2''').fetchall()"
   ]
  },
  {
   "cell_type": "code",
   "execution_count": 8,
   "metadata": {},
   "outputs": [
    {
     "data": {
      "text/plain": [
       "<sqlite3.Cursor at 0x1745d9c4b40>"
      ]
     },
     "execution_count": 8,
     "metadata": {},
     "output_type": "execute_result"
    }
   ],
   "source": [
    "#c.execute('''DROP TABLE my_data''')"
   ]
  },
  {
   "cell_type": "code",
   "execution_count": null,
   "metadata": {},
   "outputs": [],
   "source": [
    "#c.close()"
   ]
  },
  {
   "cell_type": "code",
   "execution_count": 6,
   "metadata": {},
   "outputs": [
    {
     "data": {
      "text/plain": [
       "[(553,\n",
       "  '24/09/1983',\n",
       "  '21/11/2004',\n",
       "  9.0,\n",
       "  'Young',\n",
       "  'Christopher Anthony',\n",
       "  999508,\n",
       "  34,\n",
       "  '31/03/2006',\n",
       "  '17/07/2018',\n",
       "  'Black',\n",
       "  'Bexar',\n",
       "  'Brown',\n",
       "  216.0,\n",
       "  '6\\' 1\"',\n",
       "  'Bexar',\n",
       "  'Texas',\n",
       "  \"l want to make sure the Patel family knows I love them like they love me. Make sure the kids in the world know I'm being executed and those kids I've been mentoring keep this fight going. I'm good Warden.\"),\n",
       " (552,\n",
       "  '28/08/1951',\n",
       "  '27/05/1979',\n",
       "  12.0,\n",
       "  'Bible',\n",
       "  'Danny Paul',\n",
       "  999455,\n",
       "  66,\n",
       "  '17/07/2003',\n",
       "  '27/06/2018',\n",
       "  'White',\n",
       "  'Harris',\n",
       "  'Blue',\n",
       "  194.0,\n",
       "  '5\\' 7\"',\n",
       "  'Brazoria',\n",
       "  'Texas',\n",
       "  None),\n",
       " (551,\n",
       "  '03/04/1981',\n",
       "  '03/12/2003',\n",
       "  10.0,\n",
       "  'Castillo',\n",
       "  'Juan Edward',\n",
       "  999502,\n",
       "  37,\n",
       "  '27/09/2005',\n",
       "  '16/05/2018',\n",
       "  'Hispanic',\n",
       "  'Bexar',\n",
       "  'Brown',\n",
       "  180.0,\n",
       "  '5\\' 11\"',\n",
       "  'Bexar',\n",
       "  'Texas',\n",
       "  \"To everyone that has been there for me you know who you are. Love y'all. See y'all on the other side.That's it.\"),\n",
       " (550,\n",
       "  '04/04/1987',\n",
       "  '06/04/2008',\n",
       "  11.0,\n",
       "  'Davila',\n",
       "  'Erick Daniel',\n",
       "  999545,\n",
       "  31,\n",
       "  '27/02/2009',\n",
       "  '25/04/2018',\n",
       "  'Black',\n",
       "  'Tarrant',\n",
       "  'Brown',\n",
       "  161.0,\n",
       "  '5\\' 11\"',\n",
       "  'Tarrant',\n",
       "  'Texas',\n",
       "  \"Yes, I would like to say nephew it burns huh. You know I might have lost the fight but I'm still a soldier. I still love you all. To my supporters and family y'all hold it down. Ten Toes down right. That's all.\"),\n",
       " (549,\n",
       "  '26/03/1980',\n",
       "  '13/09/2005',\n",
       "  12.0,\n",
       "  'Rodriguez III',\n",
       "  'Rosendo',\n",
       "  999534,\n",
       "  38,\n",
       "  '14/05/2008',\n",
       "  '27/03/2018',\n",
       "  'Hispanic',\n",
       "  'Lubbock',\n",
       "  'Brown',\n",
       "  198.0,\n",
       "  '5\\' 8\"',\n",
       "  'Wichita',\n",
       "  'Texas',\n",
       "  'First I would like to say I have been here since September 2005.  I had the honor and privilege to know many prison guards and staff.  I want to thank all of them.  I would like for everyone to write the people on death row as they are all good men and I am very happy I got to know them.  All of their lives are worth knowing about.\\n\\nSecondly on February 14th the medical examiner and the chief nurse were engaged in numerous false illegal acts.  They tried to cover up that thousands were wrongfully convicted by Matt Powell, district attorney.  This needs to be brought to justice.\\n\\nI call upon the FBI to investigate Matt Powell and the Lubbock County Medical Examiner.  Lastly, I was born and raised Catholic and it was not lost upon me that this is Holy Week and last Sunday was Palm Sunday.  Yesterday was my birthday.  Today is the day I join my God and father.  The state may have my body but not my soul.\\n\\nIn order to save my brothers on death row I call upon Pope Francis and all the people of the world.\\n\\nLastly, I want everyone to boycott every single business  in the state of Texas until all the businesses are pressed to stop the death penalty.\\n\\nWith that Lord I commend my spirit.\\n\\nWarden I am ready to join my father.')]"
      ]
     },
     "execution_count": 6,
     "metadata": {},
     "output_type": "execute_result"
    }
   ],
   "source": [
    "c.execute(\"SELECT * FROM my_data LIMIT 5\").fetchall()"
   ]
  },
  {
   "cell_type": "code",
   "execution_count": null,
   "metadata": {},
   "outputs": [],
   "source": []
  }
 ],
 "metadata": {
  "interpreter": {
   "hash": "a646f2a6383ff3ae883ba58bf2fe2a5d525f8ca0902f534aacd3a66fbc02c8b0"
  },
  "kernelspec": {
   "display_name": "Python 3.10.2 64-bit ('minimal_ds': conda)",
   "language": "python",
   "name": "python3"
  },
  "language_info": {
   "codemirror_mode": {
    "name": "ipython",
    "version": 3
   },
   "file_extension": ".py",
   "mimetype": "text/x-python",
   "name": "python",
   "nbconvert_exporter": "python",
   "pygments_lexer": "ipython3",
   "version": "3.10.2"
  },
  "orig_nbformat": 4
 },
 "nbformat": 4,
 "nbformat_minor": 2
}
