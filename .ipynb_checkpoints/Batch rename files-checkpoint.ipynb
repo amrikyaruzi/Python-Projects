{
 "cells": [
  {
   "cell_type": "code",
   "execution_count": 1,
   "id": "d9d357d1",
   "metadata": {},
   "outputs": [],
   "source": [
    "import os"
   ]
  },
  {
   "cell_type": "code",
   "execution_count": 2,
   "id": "d24a10b1",
   "metadata": {},
   "outputs": [],
   "source": [
    "os.chdir(\"C:/Users/amri.kyaruzi/Downloads/Downloads/Videos/Movies\")"
   ]
  },
  {
   "cell_type": "code",
   "execution_count": 5,
   "id": "3d9cba34",
   "metadata": {},
   "outputs": [],
   "source": [
    "files = os.listdir()\n",
    "#print(files)"
   ]
  },
  {
   "cell_type": "code",
   "execution_count": 7,
   "id": "1a538791",
   "metadata": {},
   "outputs": [],
   "source": [
    "for file in files:\n",
    "    filename, ext = os.path.splitext(file)\n",
    "    \n",
    "    filename = filename.title()\n",
    "    newname = '{}{}'.format(filename, ext)\n",
    "    os.rename(file, newname)"
   ]
  },
  {
   "cell_type": "code",
   "execution_count": null,
   "id": "dded49be",
   "metadata": {},
   "outputs": [],
   "source": []
  }
 ],
 "metadata": {
  "kernelspec": {
   "display_name": "Python 3 (ipykernel)",
   "language": "python",
   "name": "python3"
  },
  "language_info": {
   "codemirror_mode": {
    "name": "ipython",
    "version": 3
   },
   "file_extension": ".py",
   "mimetype": "text/x-python",
   "name": "python",
   "nbconvert_exporter": "python",
   "pygments_lexer": "ipython3",
   "version": "3.10.2"
  }
 },
 "nbformat": 4,
 "nbformat_minor": 5
}
